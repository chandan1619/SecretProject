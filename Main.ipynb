{
 "cells": [
  {
   "cell_type": "code",
   "execution_count": null,
   "id": "a96acb90",
   "metadata": {},
   "outputs": [],
   "source": []
  },
  {
   "cell_type": "code",
   "execution_count": 1,
   "id": "ad9aa4d8",
   "metadata": {},
   "outputs": [
    {
     "name": "stdout",
     "output_type": "stream",
     "text": [
      "Requirement already satisfied: beautifulsoup4 in /usr/local/lib/python3.10/site-packages (4.11.1)\n",
      "Requirement already satisfied: soupsieve>1.2 in /usr/local/lib/python3.10/site-packages (from beautifulsoup4) (2.3.2.post1)\n",
      "Requirement already satisfied: lxml in /usr/local/lib/python3.10/site-packages (4.9.1)\n"
     ]
    }
   ],
   "source": [
    "# installing necessary packages\n",
    "!pip install beautifulsoup4\n",
    "!pip install lxml"
   ]
  },
  {
   "cell_type": "code",
   "execution_count": 2,
   "id": "89922270",
   "metadata": {},
   "outputs": [
    {
     "name": "stdout",
     "output_type": "stream",
     "text": [
      "Canvas\n"
     ]
    }
   ],
   "source": [
    "# step 1 - Reading the data from xml file and picking the filed inside <object> tags\n",
    "\n",
    "from bs4 import BeautifulSoup\n",
    "\n",
    "with open('example.xml', 'r') as f:\n",
    "    data = f.read()\n",
    "\n",
    "Bs_data = BeautifulSoup(data, \"xml\")\n",
    "\n",
    "objects = Bs_data.find_all('object')\n",
    " \n",
    "print(objects[0].find('name').text)"
   ]
  },
  {
   "cell_type": "code",
   "execution_count": 3,
   "id": "8a81c55e",
   "metadata": {},
   "outputs": [],
   "source": [
    "# step 2 - making a Node class to represent a Tree Node with same properties as there for attributes of object tag in xml \n",
    "# file\n",
    "class Node:\n",
    "    \n",
    "    def __init__(self,name,pose,truncated,xmin,xmax,ymin,ymax,childeren):\n",
    "        self.name = name\n",
    "        self.pose = pose\n",
    "        self.truncated = truncated\n",
    "        self.xmin = int(xmin)\n",
    "        self.xmax = int(xmax)\n",
    "        self.ymin = int(ymin)\n",
    "        self.ymax = int(ymax)\n",
    "        self.area = (self.ymax - self.ymin)*(self.xmax - self.xmin)\n",
    "        self.children = childeren or []\n",
    "    def __lt__(self, other):\n",
    "         return self.area > other.area\n",
    "    \n",
    "    "
   ]
  },
  {
   "cell_type": "code",
   "execution_count": 4,
   "id": "5d2c91d1",
   "metadata": {},
   "outputs": [],
   "source": [
    "# Step 3 - creating object of Node class corresponding to object tag and storing them in a list\n",
    "node = []\n",
    "\n",
    "for obj in objects:\n",
    "    tmp_node = Node(obj.find('name').text, obj.find('pose').text, obj.find('truncated').text,\n",
    "               obj.find('xmin').text, obj.find('xmax').text, obj.find('ymin').text, obj.find('ymax').text,[])\n",
    "    node.append(tmp_node)"
   ]
  },
  {
   "cell_type": "code",
   "execution_count": 5,
   "id": "4ebcfddc",
   "metadata": {},
   "outputs": [],
   "source": [
    " # step 4 -sorting the object based on the area of bounding box (bounding box whose area is most will come first and so on)\n",
    "node.sort()"
   ]
  },
  {
   "cell_type": "code",
   "execution_count": null,
   "id": "b096136e",
   "metadata": {},
   "outputs": [],
   "source": []
  },
  {
   "cell_type": "code",
   "execution_count": 6,
   "id": "4dd8bc9b",
   "metadata": {},
   "outputs": [],
   "source": [
    "# step 5 - defining a funtion which basically check whether a object(Node) is inside a object(Node) based on \n",
    "# properties of object tag like (xmin,xmax,ymin,ymax)\n",
    "\n",
    "def isContained(parent,child):\n",
    "    if parent.xmin <= child.xmin and parent.xmax >= child.xmax and parent.ymin <= child.ymin and parent.ymax >=child.ymax:\n",
    "        return True\n",
    "    return False"
   ]
  },
  {
   "cell_type": "code",
   "execution_count": 7,
   "id": "6ddbb07e",
   "metadata": {},
   "outputs": [],
   "source": [
    "# step 6 - creating parent child relationship for all the nodes in the tree\n",
    "parent = [-1]*len(node)\n",
    "\n",
    "parent[0] = node[0]\n",
    "\n",
    "for index in range(1,len(node)):\n",
    "    \n",
    "    for j in range(index-1,-1,-1):\n",
    "        \n",
    "        if isContained(node[j], node[index]):\n",
    "            parent[index] = node[j]\n",
    "            break;\n",
    "            \n",
    "    \n",
    "\n"
   ]
  },
  {
   "cell_type": "code",
   "execution_count": null,
   "id": "910941e7",
   "metadata": {},
   "outputs": [],
   "source": []
  },
  {
   "cell_type": "code",
   "execution_count": 8,
   "id": "41dd88e7",
   "metadata": {},
   "outputs": [],
   "source": [
    "# step 7 - Linking parent with child node\n",
    "\n",
    "for i in range(len(parent)-1,0,-1):\n",
    "    parent[i].children.append(node[i])"
   ]
  },
  {
   "cell_type": "code",
   "execution_count": 9,
   "id": "3c5d5a74",
   "metadata": {},
   "outputs": [],
   "source": [
    "# step 8 -Doing a BFS traversal over the tree\n",
    "def printTree(node):\n",
    "    queue = []\n",
    " \n",
    "    # Enqueue Root and initialize height\n",
    "    queue.append(node)\n",
    " \n",
    "    while(len(queue) > 0):\n",
    "        \n",
    "        \n",
    "        level_length = len(queue);\n",
    "        \n",
    "        while level_length > 0:\n",
    "            node = queue.pop(0)\n",
    "            print(node.name, end = \" \")\n",
    "            for child in node.children:\n",
    "                queue.append(child)\n",
    "            level_length= level_length -1;\n",
    "        print()\n",
    "        print('********************')\n",
    "    "
   ]
  },
  {
   "cell_type": "code",
   "execution_count": 10,
   "id": "5d641662",
   "metadata": {},
   "outputs": [
    {
     "name": "stdout",
     "output_type": "stream",
     "text": [
      "Canvas \n",
      "********************\n",
      "Header Side Bar Grid \n",
      "********************\n",
      "Button Button Button Button sidebar content sidebar content sidebar content sidebar content Card Card \n",
      "********************\n",
      "Button Image Button Image \n",
      "********************\n"
     ]
    }
   ],
   "source": [
    "printTree(node[0])"
   ]
  },
  {
   "cell_type": "code",
   "execution_count": 11,
   "id": "61dc4ed0",
   "metadata": {},
   "outputs": [],
   "source": [
    "# step 9 - I have hashed the preorder traversal of the representation of entire subtree and then check their number of occurence to\n",
    "# to find similar componenets\n",
    "tree_map = {}\n",
    "\n",
    "repeated_node = []\n",
    "\n",
    "def similarComponenets(node,path):\n",
    "    \n",
    "    if not node:\n",
    "        return '#'\n",
    "    \n",
    "    path += node.name\n",
    "    \n",
    "    print(path)\n",
    "    \n",
    "    for child in node.children:\n",
    "        path += similarComponenets(child, '')\n",
    "    \n",
    "    if path in tree_map:\n",
    "        tree_map[path]+=1;\n",
    "        \n",
    "        if tree_map[path] == 2:\n",
    "            repeated_node.append(node)\n",
    "    else:\n",
    "        tree_map[path] = 1\n",
    "    \n",
    "    return path\n",
    "            \n",
    "            \n",
    "        \n",
    "    \n",
    "    "
   ]
  },
  {
   "cell_type": "code",
   "execution_count": 12,
   "id": "3be914dd",
   "metadata": {},
   "outputs": [
    {
     "name": "stdout",
     "output_type": "stream",
     "text": [
      "Canvas\n",
      "Header\n",
      "Button\n",
      "Button\n",
      "Button\n",
      "Button\n",
      "Side Bar\n",
      "sidebar content\n",
      "sidebar content\n",
      "sidebar content\n",
      "sidebar content\n",
      "Grid\n",
      "Card\n",
      "Button\n",
      "Image\n",
      "Card\n",
      "Button\n",
      "Image\n"
     ]
    },
    {
     "data": {
      "text/plain": [
       "'CanvasHeaderButtonButtonButtonButtonSide Barsidebar contentsidebar contentsidebar contentsidebar contentGridCardButtonImageCardButtonImage'"
      ]
     },
     "execution_count": 12,
     "metadata": {},
     "output_type": "execute_result"
    }
   ],
   "source": [
    "similarComponenets(node[0],'')"
   ]
  },
  {
   "cell_type": "code",
   "execution_count": 13,
   "id": "e260a726",
   "metadata": {},
   "outputs": [
    {
     "name": "stdout",
     "output_type": "stream",
     "text": [
      "Button \n",
      "********************\n",
      "----------------\n",
      "sidebar content \n",
      "********************\n",
      "----------------\n",
      "Image \n",
      "********************\n",
      "----------------\n",
      "Card \n",
      "********************\n",
      "Button Image \n",
      "********************\n",
      "----------------\n"
     ]
    }
   ],
   "source": [
    "for obj in repeated_node:\n",
    "    printTree(obj)\n",
    "    print(\"----------------\")"
   ]
  },
  {
   "cell_type": "code",
   "execution_count": null,
   "id": "2cf274a1",
   "metadata": {},
   "outputs": [],
   "source": []
  }
 ],
 "metadata": {
  "kernelspec": {
   "display_name": "Python 3 (ipykernel)",
   "language": "python",
   "name": "python3"
  },
  "language_info": {
   "codemirror_mode": {
    "name": "ipython",
    "version": 3
   },
   "file_extension": ".py",
   "mimetype": "text/x-python",
   "name": "python",
   "nbconvert_exporter": "python",
   "pygments_lexer": "ipython3",
   "version": "3.10.6"
  }
 },
 "nbformat": 4,
 "nbformat_minor": 5
}
